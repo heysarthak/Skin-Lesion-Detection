{
 "cells": [
  {
   "cell_type": "code",
   "execution_count": 117,
   "id": "9cc6c18f",
   "metadata": {},
   "outputs": [],
   "source": [
    "%matplotlib inline\n",
    "import matplotlib.pyplot as plt\n",
    "import numpy as np\n",
    "import pandas as pd\n",
    "import os\n",
    "from glob import glob\n",
    "import seaborn as sns\n",
    "import numpy as np\n",
    "import pandas as pd\n",
    "from sklearn.model_selection import train_test_split\n",
    "from tensorflow.keras.utils import to_categorical # convert to one-hot-encoding\n",
    "\n",
    "from tensorflow.keras.preprocessing.image import ImageDataGenerator\n",
    "from tensorflow.keras import layers\n",
    "from tensorflow.keras import Model\n",
    "from tensorflow.keras.optimizers import Adam\n",
    "from tensorflow.keras.callbacks import ReduceLROnPlateau\n",
    "%matplotlib inline\n",
    "\n",
    "import matplotlib.pyplot as plt"
   ]
  },
  {
   "cell_type": "code",
   "execution_count": 118,
   "id": "9117137c",
   "metadata": {},
   "outputs": [],
   "source": [
    "labels=[['Actinic_keratoses' ,1],['Basal_cell_carcinoma',1],['Benign_keratosis-like_lesions',0],['Dermatofibroma',0],['Melanocytic_nevi',0],['Vascular_lesions',0],['melanoma',1]]\n"
   ]
  },
  {
   "cell_type": "code",
   "execution_count": 119,
   "id": "983b847c",
   "metadata": {},
   "outputs": [],
   "source": [
    "path=\"D:/Smart Healthcare/Skin-Lesions-Detection-Deep-learning-main/Skin-Lesions-Detection-Deep-learning-main/Notebooks/test_images/test_1.jpeg\""
   ]
  },
  {
   "cell_type": "code",
   "execution_count": 120,
   "id": "cc26f794",
   "metadata": {},
   "outputs": [],
   "source": [
    "from PIL import Image"
   ]
  },
  {
   "cell_type": "code",
   "execution_count": 121,
   "id": "cce32594",
   "metadata": {},
   "outputs": [
    {
     "name": "stderr",
     "output_type": "stream",
     "text": [
      "C:\\Users\\91987\\AppData\\Local\\Temp\\ipykernel_11920\\1616291814.py:1: DeprecationWarning: NEAREST is deprecated and will be removed in Pillow 10 (2023-07-01). Use Resampling.NEAREST or Dither.NONE instead.\n",
      "  reshaped_image = np.asarray(Image.open(path).resize((64,64), resample=Image.NEAREST).\\\n"
     ]
    }
   ],
   "source": [
    "reshaped_image = np.asarray(Image.open(path).resize((64,64), resample=Image.NEAREST).\\\n",
    "                            convert(\"RGB\")).ravel()"
   ]
  },
  {
   "cell_type": "code",
   "execution_count": 122,
   "id": "95a0e6cd",
   "metadata": {},
   "outputs": [
    {
     "data": {
      "text/plain": [
       "array([201, 161, 151, ..., 222, 188, 161], dtype=uint8)"
      ]
     },
     "execution_count": 122,
     "metadata": {},
     "output_type": "execute_result"
    }
   ],
   "source": [
    "reshaped_image.T"
   ]
  },
  {
   "cell_type": "code",
   "execution_count": 123,
   "id": "fbf40393",
   "metadata": {},
   "outputs": [],
   "source": [
    "r_mean = np.mean(reshaped_image)\n",
    "r_std = np.std(reshaped_image)\n",
    "\n",
    "reshaped_image = (reshaped_image - r_mean)/r_std"
   ]
  },
  {
   "cell_type": "code",
   "execution_count": 124,
   "id": "3a17ab39",
   "metadata": {},
   "outputs": [
    {
     "data": {
      "text/plain": [
       "array([ 0.72893711,  0.13265445, -0.01641621, ...,  1.04198551,\n",
       "        0.53514525,  0.13265445])"
      ]
     },
     "execution_count": 124,
     "metadata": {},
     "output_type": "execute_result"
    }
   ],
   "source": [
    "reshaped_image"
   ]
  },
  {
   "cell_type": "code",
   "execution_count": 125,
   "id": "9c0155e0",
   "metadata": {},
   "outputs": [],
   "source": [
    "reshaped_image=reshaped_image.reshape(1,64,64,3)"
   ]
  },
  {
   "cell_type": "code",
   "execution_count": 126,
   "id": "f8cc9c8f",
   "metadata": {},
   "outputs": [
    {
     "data": {
      "text/plain": [
       "(1, 64, 64, 3)"
      ]
     },
     "execution_count": 126,
     "metadata": {},
     "output_type": "execute_result"
    }
   ],
   "source": [
    "reshaped_image.shape"
   ]
  },
  {
   "cell_type": "code",
   "execution_count": 127,
   "id": "b060eea5",
   "metadata": {},
   "outputs": [
    {
     "data": {
      "text/plain": [
       "array([[[[ 7.28937110e-01,  1.32654452e-01, -1.64162128e-02],\n",
       "         [ 6.99122977e-01,  1.02840319e-01, -4.62303458e-02],\n",
       "         [ 9.22728974e-01,  3.86074582e-01,  2.07189784e-01],\n",
       "         ...,\n",
       "         [ 1.20596324e+00,  7.43844177e-01,  6.69308844e-01],\n",
       "         [ 9.22728974e-01,  3.71167515e-01,  1.32654452e-01],\n",
       "         [ 8.78007775e-01,  3.11539249e-01,  1.47561518e-01]],\n",
       "\n",
       "        [[ 1.05689257e+00,  6.54401778e-01,  5.50052313e-01],\n",
       "         [ 1.08670671e+00,  6.84215911e-01,  5.79866446e-01],\n",
       "         [ 9.37636041e-01,  5.20238180e-01,  3.56260449e-01],\n",
       "         ...,\n",
       "         [ 1.38484803e+00,  1.05689257e+00,  8.63100709e-01],\n",
       "         [ 1.14633497e+00,  6.69308844e-01,  4.45702848e-01],\n",
       "         [ 1.22087030e+00,  7.14030044e-01,  5.35145246e-01]],\n",
       "\n",
       "        [[ 1.10161377e+00,  6.24587645e-01,  4.00981648e-01],\n",
       "         [ 1.13142790e+00,  7.43844177e-01,  5.50052313e-01],\n",
       "         [ 1.19105617e+00,  7.73658310e-01,  5.94773512e-01],\n",
       "         ...,\n",
       "         [ 1.11652084e+00,  6.24587645e-01,  4.00981648e-01],\n",
       "         [ 1.29540564e+00,  9.67450174e-01,  7.73658310e-01],\n",
       "         [ 1.53391870e+00,  1.36994097e+00,  1.17614910e+00]],\n",
       "\n",
       "        ...,\n",
       "\n",
       "        [[ 1.08670671e+00,  5.50052313e-01,  1.62468585e-01],\n",
       "         [ 9.82357240e-01,  4.45702848e-01,  5.81191195e-02],\n",
       "         [ 1.16124204e+00,  6.09680579e-01,  1.77375651e-01],\n",
       "         ...,\n",
       "         [ 1.08670671e+00,  5.64959379e-01,  1.47561518e-01],\n",
       "         [ 1.11652084e+00,  6.24587645e-01,  1.62468585e-01],\n",
       "         [ 1.11652084e+00,  6.69308844e-01,  2.51910984e-01]],\n",
       "\n",
       "        [[ 1.11652084e+00,  6.09680579e-01,  2.07189784e-01],\n",
       "         [ 1.08670671e+00,  5.79866446e-01,  1.77375651e-01],\n",
       "         [ 8.78007775e-01,  3.41353382e-01, -1.35672745e-01],\n",
       "         ...,\n",
       "         [ 1.01217137e+00,  5.64959379e-01,  5.81191195e-02],\n",
       "         [ 1.07179964e+00,  5.20238180e-01,  8.79332524e-02],\n",
       "         [ 1.02707844e+00,  5.20238180e-01,  1.17747385e-01]],\n",
       "\n",
       "        [[ 9.52543107e-01,  4.45702848e-01,  4.32120530e-02],\n",
       "         [ 1.04198551e+00,  5.35145246e-01,  1.32654452e-01],\n",
       "         [ 9.52543107e-01,  4.00981648e-01, -1.50914638e-03],\n",
       "         ...,\n",
       "         [ 9.07821908e-01,  3.26446316e-01, -1.65486877e-01],\n",
       "         [ 1.34012684e+00,  9.97264307e-01,  7.28937110e-01],\n",
       "         [ 1.04198551e+00,  5.35145246e-01,  1.32654452e-01]]]])"
      ]
     },
     "execution_count": 127,
     "metadata": {},
     "output_type": "execute_result"
    }
   ],
   "source": [
    "reshaped_image"
   ]
  },
  {
   "cell_type": "code",
   "execution_count": 128,
   "id": "e9d004e3",
   "metadata": {},
   "outputs": [],
   "source": [
    "from tensorflow import keras"
   ]
  },
  {
   "cell_type": "code",
   "execution_count": 129,
   "id": "bb2bb606",
   "metadata": {},
   "outputs": [],
   "source": [
    "model=keras.models.load_model(\"D:/Smart Healthcare/Skin-Lesions-Detection-Deep-learning-main/Skin-Lesions-Detection-Deep-learning-main/Saved Models/Base.h5\")"
   ]
  },
  {
   "cell_type": "code",
   "execution_count": 130,
   "id": "f6790199",
   "metadata": {},
   "outputs": [
    {
     "name": "stdout",
     "output_type": "stream",
     "text": [
      "Model: \"model\"\n",
      "_________________________________________________________________\n",
      " Layer (type)                Output Shape              Param #   \n",
      "=================================================================\n",
      " input_1 (InputLayer)        [(None, 64, 64, 3)]       0         \n",
      "                                                                 \n",
      " conv2d (Conv2D)             (None, 64, 64, 16)        448       \n",
      "                                                                 \n",
      " max_pooling2d (MaxPooling2D  (None, 32, 32, 16)       0         \n",
      " )                                                               \n",
      "                                                                 \n",
      " conv2d_1 (Conv2D)           (None, 32, 32, 32)        4640      \n",
      "                                                                 \n",
      " max_pooling2d_1 (MaxPooling  (None, 16, 16, 32)       0         \n",
      " 2D)                                                             \n",
      "                                                                 \n",
      " conv2d_2 (Conv2D)           (None, 16, 16, 64)        18496     \n",
      "                                                                 \n",
      " max_pooling2d_2 (MaxPooling  (None, 8, 8, 64)         0         \n",
      " 2D)                                                             \n",
      "                                                                 \n",
      " flatten (Flatten)           (None, 4096)              0         \n",
      "                                                                 \n",
      " dense (Dense)               (None, 512)               2097664   \n",
      "                                                                 \n",
      " dropout (Dropout)           (None, 512)               0         \n",
      "                                                                 \n",
      " dense_1 (Dense)             (None, 7)                 3591      \n",
      "                                                                 \n",
      "=================================================================\n",
      "Total params: 2,124,839\n",
      "Trainable params: 2,124,839\n",
      "Non-trainable params: 0\n",
      "_________________________________________________________________\n"
     ]
    }
   ],
   "source": [
    "model.summary()"
   ]
  },
  {
   "cell_type": "code",
   "execution_count": 131,
   "id": "2b9767f1",
   "metadata": {},
   "outputs": [
    {
     "name": "stdout",
     "output_type": "stream",
     "text": [
      "1/1 [==============================] - 0s 53ms/step\n"
     ]
    }
   ],
   "source": [
    "predictions=model.predict(reshaped_image)"
   ]
  },
  {
   "cell_type": "code",
   "execution_count": 132,
   "id": "e53560da",
   "metadata": {},
   "outputs": [
    {
     "data": {
      "text/plain": [
       "array([[2.9817520e-02, 2.3681913e-02, 5.5646770e-02, 6.9306634e-04,\n",
       "        8.8228035e-01, 1.2791573e-07, 7.8802062e-03]], dtype=float32)"
      ]
     },
     "execution_count": 132,
     "metadata": {},
     "output_type": "execute_result"
    }
   ],
   "source": [
    "predictions"
   ]
  },
  {
   "cell_type": "code",
   "execution_count": 133,
   "id": "85d5d5df",
   "metadata": {},
   "outputs": [],
   "source": [
    "predIdx=np.argmax(predictions)"
   ]
  },
  {
   "cell_type": "code",
   "execution_count": 134,
   "id": "8ddfaf5d",
   "metadata": {},
   "outputs": [
    {
     "data": {
      "text/plain": [
       "['Melanocytic_nevi', 0]"
      ]
     },
     "execution_count": 134,
     "metadata": {},
     "output_type": "execute_result"
    }
   ],
   "source": [
    "labels[predIdx]"
   ]
  },
  {
   "cell_type": "code",
   "execution_count": null,
   "id": "e0d97d6a",
   "metadata": {},
   "outputs": [],
   "source": []
  }
 ],
 "metadata": {
  "kernelspec": {
   "display_name": "Python 3 (ipykernel)",
   "language": "python",
   "name": "python3"
  },
  "language_info": {
   "codemirror_mode": {
    "name": "ipython",
    "version": 3
   },
   "file_extension": ".py",
   "mimetype": "text/x-python",
   "name": "python",
   "nbconvert_exporter": "python",
   "pygments_lexer": "ipython3",
   "version": "3.10.4"
  }
 },
 "nbformat": 4,
 "nbformat_minor": 5
}
